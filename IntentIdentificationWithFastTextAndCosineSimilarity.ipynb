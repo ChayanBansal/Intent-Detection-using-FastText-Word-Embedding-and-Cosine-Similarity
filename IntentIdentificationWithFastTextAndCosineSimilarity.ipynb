{
 "cells": [
  {
   "cell_type": "markdown",
   "metadata": {},
   "source": [
    "# Intent Identification using FastText Word Embedding and Cosine Similarity"
   ]
  },
  {
   "cell_type": "code",
   "execution_count": null,
   "metadata": {},
   "outputs": [],
   "source": [
    "# Data\n",
    "\n",
    "phrase2intent = {\n",
    "    \"Hi\": \"intent_greet\",\n",
    "    \"Hello\": \"intent_greet\",\n",
    "    \"Hi, there!\": \"intent_greet\",\n",
    "\n",
    "    \"What is your name?\": \"intent_asking_name\",\n",
    "    \"Who are you?\": \"intent_asking_name\",\n",
    "    \"May I know to whom am I talking to?\": \"intent_asking_name\",\n",
    "\n",
    "    \"Please can you tell me where is the Dean's office?\": \"intent_directions\",\n",
    "    \"directions for washroom\": \"intent_directions\",\n",
    "    \"Where is the engineering block\": \"intent_directions\",\n",
    "\n",
    "    \"Can you please fix an appointment with the Dean\" : \"intent_book_appointment\",\n",
    "    \"I want to meet the Cutural Head\": \"intent_book_appointment\",\n",
    "    \"I wish to have a conversation with the Hostel Warden\": \"intent_book_appointment\",\n",
    "}"
   ]
  },
  {
   "cell_type": "markdown",
   "metadata": {},
   "source": [
    "## Preprocessing data to be fed into the fasttext model"
   ]
  },
  {
   "cell_type": "code",
   "execution_count": null,
   "metadata": {},
   "outputs": [],
   "source": [
    "text = list(map(str.split,phrase2intent.keys()))\n",
    "\n",
    "print(text)\n",
    "'''\n",
    "[['Hi'],\n",
    " ['Hello'],\n",
    " ['Hi,', 'there!'],\n",
    " ['What', 'is', 'your', 'name?'],\n",
    " ['Who', 'are', 'you?'],\n",
    " ['May', 'I', 'know', 'to', 'whom', 'am', 'I', 'talking', 'to?'],\n",
    " ['Please',\n",
    "  'can',\n",
    "  'you',\n",
    "  'tell',\n",
    "  'me',\n",
    "  'where',\n",
    "  'is',\n",
    "  'the',\n",
    "  \"Dean's\",\n",
    "  'office?'],\n",
    " ['directions', 'for', 'washroom'],\n",
    " ['Where', 'is', 'the', 'engineering', 'block'],\n",
    " ['Can', 'you', 'please', 'fix', 'an', 'appointment', 'with', 'the', 'Dean'],\n",
    " ['I', 'want', 'to', 'meet', 'the', 'Cutural', 'Head'],\n",
    " ['I',\n",
    "  'wish',\n",
    "  'to',\n",
    "  'have',\n",
    "  'a',\n",
    "  'conversation',\n",
    "  'with',\n",
    "  'the',\n",
    "  'Hostel',\n",
    "  'Warden']]\n",
    "'''\n"
   ]
  },
  {
   "cell_type": "markdown",
   "metadata": {},
   "source": [
    "## OPTION 1: Training a fasttext model from scratch"
   ]
  },
  {
   "cell_type": "code",
   "execution_count": null,
   "metadata": {},
   "outputs": [],
   "source": [
    "from gensim.models import fasttext\n",
    "model = fasttext.FastText() # Using default configuration. You can set size, window, min_count, etc. Refer https://radimrehurek.com/gensim/models/fasttext.html\n",
    "model.build_vocab(text)\n",
    "model.train(text, total_examples=len(text), epochs=20) # You can play around with number of epochs."
   ]
  },
  {
   "cell_type": "markdown",
   "metadata": {},
   "source": [
    "## OPTION 2: Loading a pretrained fasttext model"
   ]
  },
  {
   "cell_type": "code",
   "execution_count": null,
   "metadata": {},
   "outputs": [],
   "source": [
    "from gensim.models import fasttext\n",
    "# First download the bin file from https://dl.fbaipublicfiles.com/fasttext/vectors-english/wiki-news-300d-1M-subword.bin.zip and unzip it\n",
    "model = fasttext.load_facebook_model('wiki-news-300d-1M-subword.bin') # Pass location of the downloaded bin file"
   ]
  },
  {
   "cell_type": "markdown",
   "metadata": {},
   "source": [
    "## OPTION 3: Fine tuning the pre trained fasttext model"
   ]
  },
  {
   "cell_type": "code",
   "execution_count": null,
   "metadata": {},
   "outputs": [],
   "source": [
    "model.build_vocab(text, update=True)\n",
    "model.train(text, total_examples=len(text), epochs=model.epochs) # You can play around the number of epochs"
   ]
  },
  {
   "cell_type": "markdown",
   "metadata": {},
   "source": [
    "# Intent Identification by finding the maximum cosine similarity"
   ]
  },
  {
   "cell_type": "code",
   "execution_count": null,
   "metadata": {},
   "outputs": [],
   "source": [
    "user_utterance = \"fix a meeting with the principal\"\n",
    "threshold = 0.3 # This can changed as per the need.\n",
    "max_similarity = 0\n",
    "for i in phrase2intent:\n",
    "    if model.wv.similarity(i, user_utterance) > max_similarity:\n",
    "        max_similarity = model.wv.similarity(i, user_utterance)\n",
    "        max_intent = i\n",
    "if max_similarity < threshold: # if for a user utterance, the maximum similarity is less than the threshold, we classify as it as unknown intent\n",
    "    print(\"Didn't get it. Can you please type it again?\")\n",
    "else:\n",
    "    print(\"The detected intent is:\", phrase2intent.get(max_intent))\n",
    "    \n",
    "'''\n",
    "The detected intent is: intent_book_appointment\n",
    "'''"
   ]
  }
 ],
 "metadata": {
  "file_extension": ".py",
  "kernelspec": {
   "display_name": "Python 3",
   "language": "python",
   "name": "python3"
  },
  "language_info": {
   "codemirror_mode": {
    "name": "ipython",
    "version": 3
   },
   "file_extension": ".py",
   "mimetype": "text/x-python",
   "name": "python",
   "nbconvert_exporter": "python",
   "pygments_lexer": "ipython3",
   "version": "3.7.6"
  },
  "mimetype": "text/x-python",
  "name": "python",
  "npconvert_exporter": "python",
  "pygments_lexer": "ipython3",
  "version": 3
 },
 "nbformat": 4,
 "nbformat_minor": 2
}
